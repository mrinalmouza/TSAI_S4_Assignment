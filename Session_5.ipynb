{
  "cells": [
    {
      "cell_type": "code",
      "execution_count": 17,
      "metadata": {},
      "outputs": [],
      "source": [
        "import models\n",
        "import utils\n",
        "import torch.optim as optim\n",
        "import torch\n",
        "import torch.nn as nn"
      ]
    },
    {
      "cell_type": "code",
      "execution_count": 10,
      "metadata": {},
      "outputs": [],
      "source": [
        "has_mps = getattr(torch,'has_mps',False)\n",
        "device = \"mps\" if getattr(torch,'has_mps',False) \\\n",
        "    else \"gpu\" if torch.cuda.is_available() else \"cpu\""
      ]
    },
    {
      "cell_type": "code",
      "execution_count": 11,
      "metadata": {},
      "outputs": [
        {
          "data": {
            "text/plain": [
              "'mps'"
            ]
          },
          "execution_count": 11,
          "metadata": {},
          "output_type": "execute_result"
        }
      ],
      "source": [
        "device"
      ]
    },
    {
      "cell_type": "code",
      "execution_count": 13,
      "metadata": {
        "colab": {
          "base_uri": "https://localhost:8080/",
          "height": 463
        },
        "id": "Hx7QkLcw4Epc",
        "outputId": "f300f2b7-1a0a-4a67-d541-fe8b9c525b86"
      },
      "outputs": [
        {
          "data": {
            "image/png": "[encoded data removed]",
            "text/plain": [
              "<Figure size 640x480 with 12 Axes>"
            ]
          },
          "metadata": {},
          "output_type": "display_data"
        }
      ],
      "source": [
        "import matplotlib.pyplot as plt\n",
        "\n",
        "batch_data, batch_label = next(iter(utils.train_loader)) \n",
        "\n",
        "fig = plt.figure()\n",
        "\n",
        "for i in range(12):\n",
        "  plt.subplot(3,4,i+1)\n",
        "  plt.tight_layout()\n",
        "  plt.imshow(batch_data[i].squeeze(0), cmap='gray')\n",
        "  plt.title(batch_label[i].item())\n",
        "  plt.xticks([])\n",
        "  plt.yticks([])"
      ]
    },
    {
      "cell_type": "code",
      "execution_count": 14,
      "metadata": {
        "id": "7du4zM474LvT"
      },
      "outputs": [],
      "source": [
        "# Data to plot accuracy and loss graphs\n",
        "train_losses = []\n",
        "test_losses = []\n",
        "train_acc = []\n",
        "test_acc = []\n",
        "\n",
        "test_incorrect_pred = {'images': [], 'ground_truths': [], 'predicted_vals': []}"
      ]
    },
    {
      "cell_type": "code",
      "execution_count": 15,
      "metadata": {
        "id": "gpNw3-sy4QGd"
      },
      "outputs": [],
      "source": [
        "\n",
        "from tqdm import tqdm\n",
        "\n",
        "def GetCorrectPredCount(pPrediction, pLabels):\n",
        "  return pPrediction.argmax(dim=1).eq(pLabels).sum().item()\n",
        "\n",
        "def train(model, device, train_loader, optimizer, criterion):\n",
        "  model.train()\n",
        "  pbar = tqdm(train_loader)\n",
        "\n",
        "  train_loss = 0\n",
        "  correct = 0\n",
        "  processed = 0\n",
        "\n",
        "  for batch_idx, (data, target) in enumerate(pbar):\n",
        "    data, target = data.to(device), target.to(device)\n",
        "    optimizer.zero_grad()\n",
        "\n",
        "    # Predict\n",
        "    pred = model(data)\n",
        "\n",
        "    # Calculate loss\n",
        "    loss = criterion(pred, target)\n",
        "    train_loss+=loss.item()\n",
        "\n",
        "    # Backpropagation\n",
        "    loss.backward()\n",
        "    optimizer.step()\n",
        "    \n",
        "    correct += GetCorrectPredCount(pred, target)\n",
        "    processed += len(data)\n",
        "\n",
        "    pbar.set_description(desc= f'Train: Loss={loss.item():0.4f} Batch_id={batch_idx} Accuracy={100*correct/processed:0.2f}')\n",
        "\n",
        "  train_acc.append(100*correct/processed)\n",
        "  train_losses.append(train_loss/len(train_loader))\n",
        "\n",
        "def test(model, device, test_loader, criterion):\n",
        "    model.eval()\n",
        "\n",
        "    test_loss = 0\n",
        "    correct = 0\n",
        "\n",
        "    with torch.no_grad():\n",
        "        for batch_idx, (data, target) in enumerate(test_loader):\n",
        "            data, target = data.to(device), target.to(device)\n",
        "\n",
        "            output = model(data)\n",
        "            test_loss += criterion(output, target).item()  # sum up batch loss\n",
        "\n",
        "            correct += GetCorrectPredCount(output, target)\n",
        "\n",
        "\n",
        "    test_loss /= len(test_loader.dataset)\n",
        "    test_acc.append(100. * correct / len(test_loader.dataset))\n",
        "    test_losses.append(test_loss)\n",
        "\n",
        "    print('Test set: Average loss: {:.4f}, Accuracy: {}/{} ({:.2f}%)\\n'.format(\n",
        "        test_loss, correct, len(test_loader.dataset),\n",
        "        100. * correct / len(test_loader.dataset)))\n",
        "     "
      ]
    },
    {
      "cell_type": "code",
      "execution_count": 18,
      "metadata": {
        "colab": {
          "base_uri": "https://localhost:8080/"
        },
        "id": "Owqiet9M4TV7",
        "outputId": "f5c847c7-642b-4773-becf-70168897809e"
      },
      "outputs": [
        {
          "name": "stdout",
          "output_type": "stream",
          "text": [
            "Adjusting learning rate of group 0 to 1.0000e-02.\n",
            "Epoch 1\n"
          ]
        },
        {
          "name": "stderr",
          "output_type": "stream",
          "text": [
            "Train: Loss=0.2734 Batch_id=117 Accuracy=57.89: 100%|██████████| 118/118 [00:10<00:00, 11.31it/s]\n"
          ]
        },
        {
          "name": "stdout",
          "output_type": "stream",
          "text": [
            "Test set: Average loss: 0.0004, Accuracy: 9333/10000 (93.33%)\n",
            "\n",
            "Adjusting learning rate of group 0 to 1.0000e-02.\n",
            "Epoch 2\n"
          ]
        },
        {
          "name": "stderr",
          "output_type": "stream",
          "text": [
            "Train: Loss=0.2671 Batch_id=117 Accuracy=93.85: 100%|██████████| 118/118 [00:09<00:00, 11.90it/s]\n"
          ]
        },
        {
          "name": "stdout",
          "output_type": "stream",
          "text": [
            "Test set: Average loss: 0.0002, Accuracy: 9740/10000 (97.40%)\n",
            "\n",
            "Adjusting learning rate of group 0 to 1.0000e-02.\n",
            "Epoch 3\n"
          ]
        },
        {
          "name": "stderr",
          "output_type": "stream",
          "text": [
            "Train: Loss=0.0965 Batch_id=117 Accuracy=96.23: 100%|██████████| 118/118 [00:10<00:00, 11.75it/s]\n"
          ]
        },
        {
          "name": "stdout",
          "output_type": "stream",
          "text": [
            "Test set: Average loss: 0.0001, Accuracy: 9771/10000 (97.71%)\n",
            "\n",
            "Adjusting learning rate of group 0 to 1.0000e-02.\n",
            "Epoch 4\n"
          ]
        },
        {
          "name": "stderr",
          "output_type": "stream",
          "text": [
            "Train: Loss=0.0472 Batch_id=117 Accuracy=97.05: 100%|██████████| 118/118 [00:09<00:00, 11.99it/s]\n"
          ]
        },
        {
          "name": "stdout",
          "output_type": "stream",
          "text": [
            "Test set: Average loss: 0.0001, Accuracy: 9849/10000 (98.49%)\n",
            "\n",
            "Adjusting learning rate of group 0 to 1.0000e-02.\n",
            "Epoch 5\n"
          ]
        },
        {
          "name": "stderr",
          "output_type": "stream",
          "text": [
            "Train: Loss=0.0337 Batch_id=117 Accuracy=97.55: 100%|██████████| 118/118 [00:09<00:00, 12.02it/s]\n"
          ]
        },
        {
          "name": "stdout",
          "output_type": "stream",
          "text": [
            "Test set: Average loss: 0.0001, Accuracy: 9862/10000 (98.62%)\n",
            "\n",
            "Adjusting learning rate of group 0 to 1.0000e-02.\n",
            "Epoch 6\n"
          ]
        },
        {
          "name": "stderr",
          "output_type": "stream",
          "text": [
            "Train: Loss=0.0404 Batch_id=117 Accuracy=97.85: 100%|██████████| 118/118 [00:09<00:00, 11.96it/s]\n"
          ]
        },
        {
          "name": "stdout",
          "output_type": "stream",
          "text": [
            "Test set: Average loss: 0.0001, Accuracy: 9870/10000 (98.70%)\n",
            "\n",
            "Adjusting learning rate of group 0 to 1.0000e-02.\n",
            "Epoch 7\n"
          ]
        },
        {
          "name": "stderr",
          "output_type": "stream",
          "text": [
            "Train: Loss=0.0627 Batch_id=117 Accuracy=98.03: 100%|██████████| 118/118 [00:09<00:00, 11.94it/s]\n"
          ]
        },
        {
          "name": "stdout",
          "output_type": "stream",
          "text": [
            "Test set: Average loss: 0.0001, Accuracy: 9884/10000 (98.84%)\n",
            "\n",
            "Adjusting learning rate of group 0 to 1.0000e-02.\n",
            "Epoch 8\n"
          ]
        },
        {
          "name": "stderr",
          "output_type": "stream",
          "text": [
            "Train: Loss=0.0220 Batch_id=117 Accuracy=98.15: 100%|██████████| 118/118 [00:09<00:00, 11.81it/s]\n"
          ]
        },
        {
          "name": "stdout",
          "output_type": "stream",
          "text": [
            "Test set: Average loss: 0.0001, Accuracy: 9884/10000 (98.84%)\n",
            "\n",
            "Adjusting learning rate of group 0 to 1.0000e-02.\n",
            "Epoch 9\n"
          ]
        },
        {
          "name": "stderr",
          "output_type": "stream",
          "text": [
            "Train: Loss=0.0280 Batch_id=117 Accuracy=98.38: 100%|██████████| 118/118 [00:09<00:00, 12.01it/s]\n"
          ]
        },
        {
          "name": "stdout",
          "output_type": "stream",
          "text": [
            "Test set: Average loss: 0.0001, Accuracy: 9894/10000 (98.94%)\n",
            "\n",
            "Adjusting learning rate of group 0 to 1.0000e-02.\n",
            "Epoch 10\n"
          ]
        },
        {
          "name": "stderr",
          "output_type": "stream",
          "text": [
            "Train: Loss=0.0686 Batch_id=117 Accuracy=98.42: 100%|██████████| 118/118 [00:09<00:00, 12.04it/s]\n"
          ]
        },
        {
          "name": "stdout",
          "output_type": "stream",
          "text": [
            "Test set: Average loss: 0.0001, Accuracy: 9869/10000 (98.69%)\n",
            "\n",
            "Adjusting learning rate of group 0 to 1.0000e-02.\n",
            "Epoch 11\n"
          ]
        },
        {
          "name": "stderr",
          "output_type": "stream",
          "text": [
            "Train: Loss=0.0242 Batch_id=117 Accuracy=98.48: 100%|██████████| 118/118 [00:09<00:00, 11.94it/s]\n"
          ]
        },
        {
          "name": "stdout",
          "output_type": "stream",
          "text": [
            "Test set: Average loss: 0.0001, Accuracy: 9899/10000 (98.99%)\n",
            "\n",
            "Adjusting learning rate of group 0 to 1.0000e-02.\n",
            "Epoch 12\n"
          ]
        },
        {
          "name": "stderr",
          "output_type": "stream",
          "text": [
            "Train: Loss=0.0174 Batch_id=117 Accuracy=98.63: 100%|██████████| 118/118 [00:09<00:00, 11.94it/s]\n"
          ]
        },
        {
          "name": "stdout",
          "output_type": "stream",
          "text": [
            "Test set: Average loss: 0.0001, Accuracy: 9900/10000 (99.00%)\n",
            "\n",
            "Adjusting learning rate of group 0 to 1.0000e-02.\n",
            "Epoch 13\n"
          ]
        },
        {
          "name": "stderr",
          "output_type": "stream",
          "text": [
            "Train: Loss=0.0501 Batch_id=117 Accuracy=98.77: 100%|██████████| 118/118 [00:09<00:00, 11.97it/s]\n"
          ]
        },
        {
          "name": "stdout",
          "output_type": "stream",
          "text": [
            "Test set: Average loss: 0.0001, Accuracy: 9894/10000 (98.94%)\n",
            "\n",
            "Adjusting learning rate of group 0 to 1.0000e-02.\n",
            "Epoch 14\n"
          ]
        },
        {
          "name": "stderr",
          "output_type": "stream",
          "text": [
            "Train: Loss=0.0912 Batch_id=117 Accuracy=98.83: 100%|██████████| 118/118 [00:10<00:00, 11.72it/s]\n"
          ]
        },
        {
          "name": "stdout",
          "output_type": "stream",
          "text": [
            "Test set: Average loss: 0.0000, Accuracy: 9925/10000 (99.25%)\n",
            "\n",
            "Adjusting learning rate of group 0 to 1.0000e-02.\n",
            "Epoch 15\n"
          ]
        },
        {
          "name": "stderr",
          "output_type": "stream",
          "text": [
            "Train: Loss=0.0112 Batch_id=117 Accuracy=98.84: 100%|██████████| 118/118 [00:09<00:00, 11.96it/s]\n"
          ]
        },
        {
          "name": "stdout",
          "output_type": "stream",
          "text": [
            "Test set: Average loss: 0.0001, Accuracy: 9921/10000 (99.21%)\n",
            "\n",
            "Adjusting learning rate of group 0 to 1.0000e-03.\n",
            "Epoch 16\n"
          ]
        },
        {
          "name": "stderr",
          "output_type": "stream",
          "text": [
            "Train: Loss=0.0094 Batch_id=117 Accuracy=99.11: 100%|██████████| 118/118 [00:09<00:00, 11.89it/s]\n"
          ]
        },
        {
          "name": "stdout",
          "output_type": "stream",
          "text": [
            "Test set: Average loss: 0.0000, Accuracy: 9926/10000 (99.26%)\n",
            "\n",
            "Adjusting learning rate of group 0 to 1.0000e-03.\n",
            "Epoch 17\n"
          ]
        },
        {
          "name": "stderr",
          "output_type": "stream",
          "text": [
            "Train: Loss=0.0225 Batch_id=117 Accuracy=99.16: 100%|██████████| 118/118 [00:09<00:00, 11.82it/s]\n"
          ]
        },
        {
          "name": "stdout",
          "output_type": "stream",
          "text": [
            "Test set: Average loss: 0.0000, Accuracy: 9928/10000 (99.28%)\n",
            "\n",
            "Adjusting learning rate of group 0 to 1.0000e-03.\n",
            "Epoch 18\n"
          ]
        },
        {
          "name": "stderr",
          "output_type": "stream",
          "text": [
            "Train: Loss=0.0140 Batch_id=117 Accuracy=99.17: 100%|██████████| 118/118 [00:09<00:00, 11.99it/s]\n"
          ]
        },
        {
          "name": "stdout",
          "output_type": "stream",
          "text": [
            "Test set: Average loss: 0.0000, Accuracy: 9930/10000 (99.30%)\n",
            "\n",
            "Adjusting learning rate of group 0 to 1.0000e-03.\n",
            "Epoch 19\n"
          ]
        },
        {
          "name": "stderr",
          "output_type": "stream",
          "text": [
            "Train: Loss=0.0514 Batch_id=117 Accuracy=99.19: 100%|██████████| 118/118 [00:09<00:00, 11.95it/s]\n"
          ]
        },
        {
          "name": "stdout",
          "output_type": "stream",
          "text": [
            "Test set: Average loss: 0.0000, Accuracy: 9926/10000 (99.26%)\n",
            "\n",
            "Adjusting learning rate of group 0 to 1.0000e-03.\n",
            "Epoch 20\n"
          ]
        },
        {
          "name": "stderr",
          "output_type": "stream",
          "text": [
            "Train: Loss=0.0300 Batch_id=117 Accuracy=99.21: 100%|██████████| 118/118 [00:09<00:00, 12.03it/s]\n"
          ]
        },
        {
          "name": "stdout",
          "output_type": "stream",
          "text": [
            "Test set: Average loss: 0.0000, Accuracy: 9928/10000 (99.28%)\n",
            "\n",
            "Adjusting learning rate of group 0 to 1.0000e-03.\n"
          ]
        }
      ],
      "source": [
        "model = models.Net().to(device)\n",
        "optimizer = optim.SGD(model.parameters(), lr=0.01, momentum=0.9)\n",
        "scheduler = optim.lr_scheduler.StepLR(optimizer, step_size=15, gamma=0.1, verbose=True)\n",
        "# New Line\n",
        "criterion = nn.CrossEntropyLoss()\n",
        "num_epochs = 20\n",
        "\n",
        "for epoch in range(1, num_epochs+1):\n",
        "  print(f'Epoch {epoch}')\n",
        "  train(model, device, utils.train_loader, optimizer, criterion)\n",
        "  test(model, device, utils.test_loader, criterion)\n",
        "  scheduler.step()"
      ]
    },
    {
      "attachments": {},
      "cell_type": "markdown",
      "metadata": {
        "id": "B-LM-Z1k6FcF"
      },
      "source": [
        "CODE BLOCK: 11"
      ]
    },
    {
      "cell_type": "code",
      "execution_count": 19,
      "metadata": {
        "colab": {
          "base_uri": "https://localhost:8080/",
          "height": 871
        },
        "id": "Wu0l7dli4eC9",
        "outputId": "cd1fcdab-0c0f-41dc-d1c9-6b80f9eb7915"
      },
      "outputs": [
        {
          "data": {
            "text/plain": [
              "Text(0.5, 1.0, 'Test Accuracy')"
            ]
          },
          "execution_count": 19,
          "metadata": {},
          "output_type": "execute_result"
        },
        {
          "data": {
            "image/png": "[encoded data removed]",
            "text/plain": [
              "<Figure size 1500x1000 with 4 Axes>"
            ]
          },
          "metadata": {},
          "output_type": "display_data"
        }
      ],
      "source": [
        "fig, axs = plt.subplots(2,2,figsize=(15,10))\n",
        "axs[0, 0].plot(train_losses)\n",
        "axs[0, 0].set_title(\"Training Loss\")\n",
        "axs[1, 0].plot(train_acc)\n",
        "axs[1, 0].set_title(\"Training Accuracy\")\n",
        "axs[0, 1].plot(test_losses)\n",
        "axs[0, 1].set_title(\"Test Loss\")\n",
        "axs[1, 1].plot(test_acc)\n",
        "axs[1, 1].set_title(\"Test Accuracy\")"
      ]
    },
    {
      "cell_type": "code",
      "execution_count": 20,
      "metadata": {
        "id": "C8WZPfXe4iK_"
      },
      "outputs": [
        {
          "name": "stdout",
          "output_type": "stream",
          "text": [
            "Requirement already satisfied: torchsummary in /Users/mouzam/TSAI/.venv/lib/python3.11/site-packages (1.5.1)\n",
            "\n",
            "\u001b[1m[\u001b[0m\u001b[34;49mnotice\u001b[0m\u001b[1;39;49m]\u001b[0m\u001b[39;49m A new release of pip available: \u001b[0m\u001b[31;49m22.3.1\u001b[0m\u001b[39;49m -> \u001b[0m\u001b[32;49m23.1.2\u001b[0m\n",
            "\u001b[1m[\u001b[0m\u001b[34;49mnotice\u001b[0m\u001b[1;39;49m]\u001b[0m\u001b[39;49m To update, run: \u001b[0m\u001b[32;49mpip install --upgrade pip\u001b[0m\n",
            "----------------------------------------------------------------\n",
            "        Layer (type)               Output Shape         Param #\n",
            "================================================================\n",
            "            Conv2d-1           [-1, 32, 26, 26]             320\n",
            "            Conv2d-2           [-1, 64, 24, 24]          18,496\n",
            "            Conv2d-3          [-1, 128, 10, 10]          73,856\n",
            "            Conv2d-4            [-1, 256, 8, 8]         295,168\n",
            "            Linear-5                   [-1, 50]         204,850\n",
            "            Linear-6                   [-1, 10]             510\n",
            "================================================================\n",
            "Total params: 593,200\n",
            "Trainable params: 593,200\n",
            "Non-trainable params: 0\n",
            "----------------------------------------------------------------\n",
            "Input size (MB): 0.00\n",
            "Forward/backward pass size (MB): 0.67\n",
            "Params size (MB): 2.26\n",
            "Estimated Total Size (MB): 2.94\n",
            "----------------------------------------------------------------\n"
          ]
        }
      ],
      "source": [
        "from torchsummary import summary\n",
        "use_cuda = torch.cuda.is_available()\n",
        "device = torch.device(\"cuda\" if use_cuda else \"cpu\")\n",
        "model = models.Net().to(device)\n",
        "summary(model, input_size=(1, 28, 28))"
      ]
    },
    {
      "cell_type": "code",
      "execution_count": null,
      "metadata": {},
      "outputs": [],
      "source": []
    }
  ],
  "metadata": {
    "accelerator": "GPU",
    "colab": {
      "gpuType": "T4",
      "provenance": []
    },
    "gpuClass": "standard",
    "kernelspec": {
      "display_name": "Python 3",
      "name": "python3"
    },
    "language_info": {
      "codemirror_mode": {
        "name": "ipython",
        "version": 3
      },
      "file_extension": ".py",
      "mimetype": "text/x-python",
      "name": "python",
      "nbconvert_exporter": "python",
      "pygments_lexer": "ipython3",
      "version": "3.11.2"
    }
  },
  "nbformat": 4,
  "nbformat_minor": 0
}
